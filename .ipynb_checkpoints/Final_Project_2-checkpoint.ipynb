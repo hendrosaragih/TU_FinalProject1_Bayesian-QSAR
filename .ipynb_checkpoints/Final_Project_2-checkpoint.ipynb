{
 "cells": [
  {
   "cell_type": "markdown",
   "metadata": {
    "colab_type": "text",
    "id": "Gknjt7UAB5dk"
   },
   "source": [
    "#Masukin Dataset"
   ]
  },
  {
   "cell_type": "code",
   "execution_count": 4,
   "metadata": {
    "colab": {
     "base_uri": "https://localhost:8080/",
     "height": 408
    },
    "colab_type": "code",
    "id": "5lCw06kPr-GN",
    "outputId": "05c7b9b3-455f-4096-cddc-c68d751037e6"
   },
   "outputs": [
    {
     "data": {
      "text/html": [
       "<div>\n",
       "<style scoped>\n",
       "    .dataframe tbody tr th:only-of-type {\n",
       "        vertical-align: middle;\n",
       "    }\n",
       "\n",
       "    .dataframe tbody tr th {\n",
       "        vertical-align: top;\n",
       "    }\n",
       "\n",
       "    .dataframe thead th {\n",
       "        text-align: right;\n",
       "    }\n",
       "</style>\n",
       "<table border=\"1\" class=\"dataframe\">\n",
       "  <thead>\n",
       "    <tr style=\"text-align: right;\">\n",
       "      <th></th>\n",
       "      <th>ALogP</th>\n",
       "      <th>ATS0m</th>\n",
       "      <th>AATS6m</th>\n",
       "      <th>AATS8v</th>\n",
       "      <th>AATS8e</th>\n",
       "      <th>AATS1i</th>\n",
       "      <th>AATS3i</th>\n",
       "      <th>AATS2s</th>\n",
       "      <th>AATS7s</th>\n",
       "      <th>AATS8s</th>\n",
       "      <th>...</th>\n",
       "      <th>nHBDon</th>\n",
       "      <th>MIC2</th>\n",
       "      <th>ZMIC5</th>\n",
       "      <th>MDEC-33</th>\n",
       "      <th>MLFER_E</th>\n",
       "      <th>n6Ring</th>\n",
       "      <th>nHeteroRing</th>\n",
       "      <th>n6HeteroRing</th>\n",
       "      <th>SRW5</th>\n",
       "      <th>Label</th>\n",
       "    </tr>\n",
       "  </thead>\n",
       "  <tbody>\n",
       "    <tr>\n",
       "      <td>0</td>\n",
       "      <td>-0.9195</td>\n",
       "      <td>2588.934432</td>\n",
       "      <td>48.158117</td>\n",
       "      <td>178.551366</td>\n",
       "      <td>7.519247</td>\n",
       "      <td>149.013676</td>\n",
       "      <td>161.485521</td>\n",
       "      <td>3.284722</td>\n",
       "      <td>3.060185</td>\n",
       "      <td>2.833333</td>\n",
       "      <td>...</td>\n",
       "      <td>2</td>\n",
       "      <td>30.767343</td>\n",
       "      <td>24.812853</td>\n",
       "      <td>1.310371</td>\n",
       "      <td>1.985</td>\n",
       "      <td>2.0</td>\n",
       "      <td>1.0</td>\n",
       "      <td>1.0</td>\n",
       "      <td>0.000000</td>\n",
       "      <td>0</td>\n",
       "    </tr>\n",
       "    <tr>\n",
       "      <td>1</td>\n",
       "      <td>0.4614</td>\n",
       "      <td>5634.103006</td>\n",
       "      <td>94.201531</td>\n",
       "      <td>196.140696</td>\n",
       "      <td>7.581138</td>\n",
       "      <td>146.305448</td>\n",
       "      <td>158.591102</td>\n",
       "      <td>2.332989</td>\n",
       "      <td>1.925086</td>\n",
       "      <td>2.089559</td>\n",
       "      <td>...</td>\n",
       "      <td>2</td>\n",
       "      <td>39.741788</td>\n",
       "      <td>28.585041</td>\n",
       "      <td>3.383162</td>\n",
       "      <td>2.060</td>\n",
       "      <td>1.0</td>\n",
       "      <td>2.0</td>\n",
       "      <td>0.0</td>\n",
       "      <td>3.044522</td>\n",
       "      <td>1</td>\n",
       "    </tr>\n",
       "    <tr>\n",
       "      <td>2</td>\n",
       "      <td>0.5112</td>\n",
       "      <td>2834.386834</td>\n",
       "      <td>42.637339</td>\n",
       "      <td>168.834145</td>\n",
       "      <td>7.509380</td>\n",
       "      <td>140.140072</td>\n",
       "      <td>148.667669</td>\n",
       "      <td>3.262452</td>\n",
       "      <td>3.059524</td>\n",
       "      <td>3.482759</td>\n",
       "      <td>...</td>\n",
       "      <td>1</td>\n",
       "      <td>32.621372</td>\n",
       "      <td>22.616729</td>\n",
       "      <td>8.250206</td>\n",
       "      <td>1.857</td>\n",
       "      <td>2.0</td>\n",
       "      <td>0.0</td>\n",
       "      <td>0.0</td>\n",
       "      <td>2.397895</td>\n",
       "      <td>0</td>\n",
       "    </tr>\n",
       "    <tr>\n",
       "      <td>3</td>\n",
       "      <td>-1.4450</td>\n",
       "      <td>5379.145233</td>\n",
       "      <td>39.184295</td>\n",
       "      <td>172.733317</td>\n",
       "      <td>7.712846</td>\n",
       "      <td>150.265098</td>\n",
       "      <td>164.092245</td>\n",
       "      <td>2.858286</td>\n",
       "      <td>2.398794</td>\n",
       "      <td>2.870885</td>\n",
       "      <td>...</td>\n",
       "      <td>2</td>\n",
       "      <td>37.626171</td>\n",
       "      <td>29.787688</td>\n",
       "      <td>6.467895</td>\n",
       "      <td>3.576</td>\n",
       "      <td>3.0</td>\n",
       "      <td>3.0</td>\n",
       "      <td>2.0</td>\n",
       "      <td>2.397895</td>\n",
       "      <td>1</td>\n",
       "    </tr>\n",
       "    <tr>\n",
       "      <td>4</td>\n",
       "      <td>-2.5272</td>\n",
       "      <td>4699.962622</td>\n",
       "      <td>65.748944</td>\n",
       "      <td>205.559532</td>\n",
       "      <td>7.809137</td>\n",
       "      <td>151.119831</td>\n",
       "      <td>157.628443</td>\n",
       "      <td>4.743490</td>\n",
       "      <td>3.223584</td>\n",
       "      <td>3.759916</td>\n",
       "      <td>...</td>\n",
       "      <td>4</td>\n",
       "      <td>39.955030</td>\n",
       "      <td>30.249632</td>\n",
       "      <td>3.706843</td>\n",
       "      <td>3.322</td>\n",
       "      <td>2.0</td>\n",
       "      <td>1.0</td>\n",
       "      <td>0.0</td>\n",
       "      <td>2.397895</td>\n",
       "      <td>1</td>\n",
       "    </tr>\n",
       "  </tbody>\n",
       "</table>\n",
       "<p>5 rows × 35 columns</p>\n",
       "</div>"
      ],
      "text/plain": [
       "    ALogP        ATS0m     AATS6m      AATS8v    AATS8e      AATS1i  \\\n",
       "0 -0.9195  2588.934432  48.158117  178.551366  7.519247  149.013676   \n",
       "1  0.4614  5634.103006  94.201531  196.140696  7.581138  146.305448   \n",
       "2  0.5112  2834.386834  42.637339  168.834145  7.509380  140.140072   \n",
       "3 -1.4450  5379.145233  39.184295  172.733317  7.712846  150.265098   \n",
       "4 -2.5272  4699.962622  65.748944  205.559532  7.809137  151.119831   \n",
       "\n",
       "       AATS3i    AATS2s    AATS7s    AATS8s  ...  nHBDon       MIC2  \\\n",
       "0  161.485521  3.284722  3.060185  2.833333  ...       2  30.767343   \n",
       "1  158.591102  2.332989  1.925086  2.089559  ...       2  39.741788   \n",
       "2  148.667669  3.262452  3.059524  3.482759  ...       1  32.621372   \n",
       "3  164.092245  2.858286  2.398794  2.870885  ...       2  37.626171   \n",
       "4  157.628443  4.743490  3.223584  3.759916  ...       4  39.955030   \n",
       "\n",
       "       ZMIC5   MDEC-33  MLFER_E  n6Ring  nHeteroRing  n6HeteroRing      SRW5  \\\n",
       "0  24.812853  1.310371    1.985     2.0          1.0           1.0  0.000000   \n",
       "1  28.585041  3.383162    2.060     1.0          2.0           0.0  3.044522   \n",
       "2  22.616729  8.250206    1.857     2.0          0.0           0.0  2.397895   \n",
       "3  29.787688  6.467895    3.576     3.0          3.0           2.0  2.397895   \n",
       "4  30.249632  3.706843    3.322     2.0          1.0           0.0  2.397895   \n",
       "\n",
       "   Label  \n",
       "0      0  \n",
       "1      1  \n",
       "2      0  \n",
       "3      1  \n",
       "4      1  \n",
       "\n",
       "[5 rows x 35 columns]"
      ]
     },
     "execution_count": 4,
     "metadata": {},
     "output_type": "execute_result"
    }
   ],
   "source": [
    "import pandas as pd\n",
    "datatrain = pd.read_csv('train.csv') \n",
    "datatrain.head()"
   ]
  },
  {
   "cell_type": "markdown",
   "metadata": {
    "colab_type": "text",
    "id": "80SZUA3wB9Th"
   },
   "source": [
    "#Pisahin Fitur dan Kelas"
   ]
  },
  {
   "cell_type": "code",
   "execution_count": 5,
   "metadata": {
    "colab": {
     "base_uri": "https://localhost:8080/",
     "height": 180
    },
    "colab_type": "code",
    "id": "O4EOFTbU-nGU",
    "outputId": "c00b606b-e25c-499f-d8c5-ae30b945f6a2"
   },
   "outputs": [],
   "source": [
    "xtrainfull = datatrain[::-1]\n",
    "ytrainfull = datatrain['Label']"
   ]
  },
  {
   "cell_type": "markdown",
   "metadata": {
    "colab_type": "text",
    "id": "nmZKYrtiCBxo"
   },
   "source": [
    "#Ranking Fitur\n"
   ]
  },
  {
   "cell_type": "code",
   "execution_count": 6,
   "metadata": {
    "colab": {},
    "colab_type": "code",
    "id": "WN4Jid076Fx9"
   },
   "outputs": [
    {
     "name": "stdout",
     "output_type": "stream",
     "text": [
      "Feature ranking:\n"
     ]
    },
    {
     "name": "stderr",
     "output_type": "stream",
     "text": [
      "C:\\Users\\user\\Anaconda3\\lib\\site-packages\\sklearn\\ensemble\\forest.py:245: FutureWarning: The default value of n_estimators will change from 10 in version 0.20 to 100 in 0.22.\n",
      "  \"10 in version 0.20 to 100 in 0.22.\", FutureWarning)\n"
     ]
    },
    {
     "ename": "NameError",
     "evalue": "name 'indices' is not defined",
     "output_type": "error",
     "traceback": [
      "\u001b[1;31m---------------------------------------------------------------------------\u001b[0m",
      "\u001b[1;31mNameError\u001b[0m                                 Traceback (most recent call last)",
      "\u001b[1;32m<ipython-input-6-1bd40528dca2>\u001b[0m in \u001b[0;36m<module>\u001b[1;34m\u001b[0m\n\u001b[0;32m     19\u001b[0m \u001b[1;33m\u001b[0m\u001b[0m\n\u001b[0;32m     20\u001b[0m \u001b[1;32mfor\u001b[0m \u001b[0mf\u001b[0m \u001b[1;32min\u001b[0m \u001b[0mrange\u001b[0m\u001b[1;33m(\u001b[0m\u001b[0mxtrainfull\u001b[0m\u001b[1;33m.\u001b[0m\u001b[0mshape\u001b[0m\u001b[1;33m[\u001b[0m\u001b[1;36m1\u001b[0m\u001b[1;33m]\u001b[0m\u001b[1;33m)\u001b[0m\u001b[1;33m:\u001b[0m\u001b[1;33m\u001b[0m\u001b[1;33m\u001b[0m\u001b[0m\n\u001b[1;32m---> 21\u001b[1;33m     \u001b[0mprint\u001b[0m\u001b[1;33m(\u001b[0m\u001b[1;34m\"%d. feature %s (%f)\"\u001b[0m \u001b[1;33m%\u001b[0m \u001b[1;33m(\u001b[0m\u001b[0mf\u001b[0m \u001b[1;33m+\u001b[0m \u001b[1;36m1\u001b[0m\u001b[1;33m,\u001b[0m \u001b[0mxtrainfull\u001b[0m\u001b[1;33m.\u001b[0m\u001b[0mcolumns\u001b[0m\u001b[1;33m[\u001b[0m\u001b[0mindices\u001b[0m\u001b[1;33m[\u001b[0m\u001b[0mf\u001b[0m\u001b[1;33m]\u001b[0m\u001b[1;33m]\u001b[0m\u001b[1;33m,\u001b[0m \u001b[0mimportances\u001b[0m\u001b[1;33m[\u001b[0m\u001b[0mindices\u001b[0m\u001b[1;33m[\u001b[0m\u001b[0mf\u001b[0m\u001b[1;33m]\u001b[0m\u001b[1;33m]\u001b[0m\u001b[1;33m)\u001b[0m\u001b[1;33m)\u001b[0m\u001b[1;33m\u001b[0m\u001b[1;33m\u001b[0m\u001b[0m\n\u001b[0m",
      "\u001b[1;31mNameError\u001b[0m: name 'indices' is not defined"
     ]
    }
   ],
   "source": [
    "import pandas as pd\n",
    "import numpy as np\n",
    "from sklearn.ensemble import ExtraTreesClassifier\n",
    "from sklearn.ensemble import RandomForestClassifier\n",
    "import matplotlib.pyplot as plt\n",
    "# model = ExtraTreesClassifier()\n",
    "# model.fit(xtrainfull,ytrainfull)\n",
    "# importances = model.feature_importances_\n",
    "# indices = np.argsort(importances)[::-1]\n",
    "\n",
    "model = RandomForestClassifier()\n",
    "# fit the model\n",
    "model.fit(xtrainfull, ytrainfull)\n",
    "# get importance\n",
    "importance = model.feature_importances_\n",
    "\n",
    "# Print the feature ranking\n",
    "print(\"Feature ranking:\")\n",
    "\n",
    "for f in range(xtrainfull.shape[1]):\n",
    "    print(\"%d. feature %s (%f)\" % (f + 1, xtrainfull.columns[indices[f]], importances[indices[f]]))"
   ]
  },
  {
   "cell_type": "markdown",
   "metadata": {
    "colab_type": "text",
    "id": "Z9_AXRIMEDl_"
   },
   "source": [
    "#Pilih Fitur Paling Bagus"
   ]
  },
  {
   "cell_type": "code",
   "execution_count": null,
   "metadata": {
    "colab": {},
    "colab_type": "code",
    "id": "9la1U-BqtvOv"
   },
   "outputs": [],
   "source": [
    "\n",
    "#plot graph of feature importances for better visualization\n",
    "feat_importances = pd.Series(model.feature_importances_, index=xtrainfull.columns).nlargest(24)\n",
    "plt.figure(figsize=(20,20))\n",
    "feat_importances.plot(kind='barh')\n",
    "plt.show()"
   ]
  },
  {
   "cell_type": "markdown",
   "metadata": {
    "colab_type": "text",
    "id": "4AaahRsLEIhz"
   },
   "source": [
    "#Coba Prediksi"
   ]
  },
  {
   "cell_type": "code",
   "execution_count": null,
   "metadata": {
    "colab": {},
    "colab_type": "code",
    "id": "T3bVtGs-yu5R"
   },
   "outputs": [],
   "source": [
    "from sklearn.model_selection import train_test_split\n",
    "from sklearn.naive_bayes import GaussianNB\n",
    "xtrain_selected = xtrainfull[feat_importances.index]\n",
    "X_train, X_test, y_train, y_test = train_test_split(xtrain_selected, ytrainfull, test_size=0.4, random_state=0)\n",
    "gnb = GaussianNB()\n",
    "model = gnb.fit(X_train, y_train)\n",
    "y_pred = model.predict(X_test)\n",
    "#Import scikit-learn metrics module for accuracy calculation\n",
    "from sklearn import metrics\n",
    "\n",
    "# Model Accuracy, how often is the classifier correct?\n",
    "print(\"Accuracy:\",metrics.accuracy_score(y_test, y_pred))"
   ]
  },
  {
   "cell_type": "markdown",
   "metadata": {
    "colab_type": "text",
    "id": "i4ie7OfaEdcX"
   },
   "source": [
    "#Coba Prediksi Data Test"
   ]
  },
  {
   "cell_type": "code",
   "execution_count": null,
   "metadata": {
    "colab": {},
    "colab_type": "code",
    "id": "_AR_6yk58Vp-"
   },
   "outputs": [],
   "source": [
    "datatrain = pd.read_csv('test.csv') \n",
    "datatrain.head()\n",
    "xtest = datatrain[::-1]\n",
    "ytest = datatrain['Label']"
   ]
  },
  {
   "cell_type": "code",
   "execution_count": null,
   "metadata": {
    "colab": {},
    "colab_type": "code",
    "id": "-wI6pCnSEB-D"
   },
   "outputs": [],
   "source": [
    "y_pred = model.predict(xtest[feat_importances.index])\n",
    "# Model Accuracy, how often is the classifier correct?\n",
    "print(\"Accuracy:\",metrics.accuracy_score(ytest, y_pred))"
   ]
  },
  {
   "cell_type": "code",
   "execution_count": null,
   "metadata": {
    "colab": {},
    "colab_type": "code",
    "id": "p7dZtIgWDQkw"
   },
   "outputs": [],
   "source": []
  },
  {
   "cell_type": "code",
   "execution_count": null,
   "metadata": {},
   "outputs": [],
   "source": []
  },
  {
   "cell_type": "code",
   "execution_count": null,
   "metadata": {},
   "outputs": [],
   "source": []
  }
 ],
 "metadata": {
  "colab": {
   "collapsed_sections": [],
   "name": "TubesTopsus2MCE.ipynb",
   "provenance": []
  },
  "kernelspec": {
   "display_name": "Python 3",
   "language": "python",
   "name": "python3"
  },
  "language_info": {
   "codemirror_mode": {
    "name": "ipython",
    "version": 3
   },
   "file_extension": ".py",
   "mimetype": "text/x-python",
   "name": "python",
   "nbconvert_exporter": "python",
   "pygments_lexer": "ipython3",
   "version": "3.7.4"
  }
 },
 "nbformat": 4,
 "nbformat_minor": 1
}
